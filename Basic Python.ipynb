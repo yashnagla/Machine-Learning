{
 "cells": [
  {
   "cell_type": "markdown",
   "id": "ec700abc",
   "metadata": {},
   "source": [
    "# Python"
   ]
  },
  {
   "cell_type": "markdown",
   "id": "f216000a",
   "metadata": {},
   "source": [
    "What is python?"
   ]
  },
  {
   "cell_type": "markdown",
   "id": "a7632f42",
   "metadata": {},
   "source": [
    "Python is an interpreted, object-oriented, high-level programming language with dynamic semantics.\n",
    "Its high-level built in data structures, combined with dynamic typing and dynamic binding.Python supports modules and packages.\n",
    "The lists are ordered.\n",
    "The element of the list can access by index.\n",
    "The lists are the mutable type.\n",
    "The lists are mutable types.\n",
    "A list can store the number of various elements."
   ]
  },
  {
   "cell_type": "markdown",
   "id": "66f0a93e",
   "metadata": {},
   "source": [
    "What is data-set?"
   ]
  },
  {
   "cell_type": "markdown",
   "id": "eb03c55c",
   "metadata": {},
   "source": [
    "A data-set is the basic data container.\n",
    "It serves as the primary form of data storage."
   ]
  },
  {
   "cell_type": "markdown",
   "id": "e3b7aeca",
   "metadata": {},
   "source": [
    "Types of Data-sets :-"
   ]
  },
  {
   "cell_type": "markdown",
   "id": "95fbf637",
   "metadata": {},
   "source": [
    "1. List :-\n",
    "It is used to store variables of same type of data.\n",
    "A list is a sequence of values called items/elements.\n",
    "The element of list can be of any type.\n",
    "Syntax:-\n",
    "list_name=list[argument/item/element]"
   ]
  },
  {
   "cell_type": "code",
   "execution_count": 1,
   "id": "e022102a",
   "metadata": {},
   "outputs": [
    {
     "data": {
      "text/plain": [
       "['Hi', 'Poornima', 2023]"
      ]
     },
     "execution_count": 1,
     "metadata": {},
     "output_type": "execute_result"
    }
   ],
   "source": [
    "#Create a list :-\n",
    "list1 = [\"Hi\",\"Poornima\",2023]\n",
    "list1"
   ]
  },
  {
   "cell_type": "code",
   "execution_count": 2,
   "id": "02227352",
   "metadata": {},
   "outputs": [
    {
     "data": {
      "text/plain": [
       "['Hi', 'Poornima', 'Yash', 2023]"
      ]
     },
     "execution_count": 2,
     "metadata": {},
     "output_type": "execute_result"
    }
   ],
   "source": [
    "#Add item/element to a list:-\n",
    "list1.append(2023)\n",
    "list1\n",
    "#Add at perticular index value\n",
    "list1[2]=\"Yash\"\n",
    "list1"
   ]
  },
  {
   "cell_type": "code",
   "execution_count": 3,
   "id": "40f6730e",
   "metadata": {},
   "outputs": [
    {
     "data": {
      "text/plain": [
       "['Hi', 'Yash', 2023]"
      ]
     },
     "execution_count": 3,
     "metadata": {},
     "output_type": "execute_result"
    }
   ],
   "source": [
    "#Deleting item/element from a list\n",
    "list1.remove(\"Poornima\")\n",
    "list1"
   ]
  },
  {
   "cell_type": "markdown",
   "id": "d50322ea",
   "metadata": {},
   "source": [
    "2. Tuple:-\n",
    "It is used to store variables of different type of data.\n",
    "A tuple is a sequence of values.\n",
    "The elements of tuples are fixed.\n",
    "Since tuple is immutable, so can not add/delete/shuffle any element or their order.\n",
    "Syntax:-list_name=list(argument/item/element)"
   ]
  },
  {
   "cell_type": "code",
   "execution_count": 4,
   "id": "3df61841",
   "metadata": {},
   "outputs": [
    {
     "data": {
      "text/plain": [
       "(1, 5, 9, 'PGI')"
      ]
     },
     "execution_count": 4,
     "metadata": {},
     "output_type": "execute_result"
    }
   ],
   "source": [
    "#Creating tuple:-\n",
    "tuple1=(1,5,9,\"PGI\",)\n",
    "tuple1"
   ]
  },
  {
   "cell_type": "code",
   "execution_count": 5,
   "id": "f94782f9",
   "metadata": {},
   "outputs": [
    {
     "data": {
      "text/plain": [
       "(1, 5, 9, 'PGI', 'Yash')"
      ]
     },
     "execution_count": 5,
     "metadata": {},
     "output_type": "execute_result"
    }
   ],
   "source": [
    "#Adding new item/element to a tuple\n",
    "tuple1 = tuple1+(\"Yash\",)\n",
    "tuple1"
   ]
  },
  {
   "cell_type": "markdown",
   "id": "29bc0b6d",
   "metadata": {},
   "source": [
    "3. Set:-\n",
    "    A set is a collection of unordered but unique items/elements.\n",
    "    It is muttable.\n",
    "    The set data structure is used to support mathematical set operations.\n",
    "    Syntax :- set = {items/elements/arguments} "
   ]
  },
  {
   "cell_type": "code",
   "execution_count": 13,
   "id": "6f7035d7",
   "metadata": {},
   "outputs": [
    {
     "data": {
      "text/plain": [
       "{1, 2023, 'Poornima', 'Python'}"
      ]
     },
     "execution_count": 13,
     "metadata": {},
     "output_type": "execute_result"
    }
   ],
   "source": [
    "#Creating Set :-\n",
    "set1 = {1,\"Poornima\",\"Python\",2023}\n",
    "set1"
   ]
  },
  {
   "cell_type": "code",
   "execution_count": 14,
   "id": "284a6498",
   "metadata": {},
   "outputs": [
    {
     "data": {
      "text/plain": [
       "{1, 2023, 'Poornima', 'Python', 'X'}"
      ]
     },
     "execution_count": 14,
     "metadata": {},
     "output_type": "execute_result"
    }
   ],
   "source": [
    "#Add an element/item to the set:-\n",
    "set1.add(\"X\")\n",
    "set1"
   ]
  },
  {
   "cell_type": "code",
   "execution_count": 12,
   "id": "2507b222",
   "metadata": {},
   "outputs": [
    {
     "data": {
      "text/plain": [
       "{1, 2023, 'Python', 'X'}"
      ]
     },
     "execution_count": 12,
     "metadata": {},
     "output_type": "execute_result"
    }
   ],
   "source": [
    "#Deleting an element/item:- \n",
    "set1.discard(\"Poornima\")\n",
    "set1"
   ]
  },
  {
   "cell_type": "markdown",
   "id": "642b2375",
   "metadata": {},
   "source": [
    "4. Dictionary :- \n",
    "A dictionary is a collection that stores values along with their keys.\n",
    "The sequence of pairs of values and keys are separated by comma.\n",
    "Items within a dictionary are also called associative arrays because they associate a key with a value.\n",
    "Syntax :- dictionay = {\"key\":\"value\",\"key\":\"value\",\"key\":\"value\"}"
   ]
  },
  {
   "cell_type": "code",
   "execution_count": 15,
   "id": "9c8c277d",
   "metadata": {},
   "outputs": [
    {
     "data": {
      "text/plain": [
       "{'Nipun': 24, 'Sahil': 33, 'Lakshya': 45, 'Yash': 51}"
      ]
     },
     "execution_count": 15,
     "metadata": {},
     "output_type": "execute_result"
    }
   ],
   "source": [
    "#Creating a dictionary :- \n",
    "roll_no = {\"Nipun\":24,\"Sahil\":33,\"Lakshya\":45,\"Yash\":51}\n",
    "roll_no"
   ]
  },
  {
   "cell_type": "code",
   "execution_count": 16,
   "id": "b57044b1",
   "metadata": {},
   "outputs": [
    {
     "data": {
      "text/plain": [
       "{'Nipun': 24, 'Sahil': 33, 'Lakshya': 45, 'Yash': 51, 'Mahi': 44}"
      ]
     },
     "execution_count": 16,
     "metadata": {},
     "output_type": "execute_result"
    }
   ],
   "source": [
    "#Add item/element to the dictionary :-\n",
    "roll_no[\"Mahi\"]=44\n",
    "roll_no"
   ]
  },
  {
   "cell_type": "code",
   "execution_count": 17,
   "id": "c655cbb4",
   "metadata": {},
   "outputs": [
    {
     "data": {
      "text/plain": [
       "{'Nipun': 24, 'Sahil': 33, 'Lakshya': 45, 'Yash': 51}"
      ]
     },
     "execution_count": 17,
     "metadata": {},
     "output_type": "execute_result"
    }
   ],
   "source": [
    "#Deleting item/element from a dictionary :-\n",
    "del roll_no[\"Mahi\"]\n",
    "roll_no"
   ]
  }
 ],
 "metadata": {
  "kernelspec": {
   "display_name": "Python 3 (ipykernel)",
   "language": "python",
   "name": "python3"
  },
  "language_info": {
   "codemirror_mode": {
    "name": "ipython",
    "version": 3
   },
   "file_extension": ".py",
   "mimetype": "text/x-python",
   "name": "python",
   "nbconvert_exporter": "python",
   "pygments_lexer": "ipython3",
   "version": "3.9.13"
  }
 },
 "nbformat": 4,
 "nbformat_minor": 5
}
